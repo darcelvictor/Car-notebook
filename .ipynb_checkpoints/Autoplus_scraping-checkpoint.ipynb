{
 "cells": [
  {
   "cell_type": "code",
   "execution_count": 1,
   "metadata": {},
   "outputs": [],
   "source": [
    "import pandas as pd\n",
    "import numpy as np\n",
    "from requests_html import HTMLSession\n",
    "from time import sleep\n",
    "import random"
   ]
  },
  {
   "cell_type": "code",
   "execution_count": 2,
   "metadata": {},
   "outputs": [],
   "source": [
    "session = HTMLSession()"
   ]
  },
  {
   "cell_type": "code",
   "execution_count": 3,
   "metadata": {},
   "outputs": [],
   "source": [
    "s = session.get(url = \"https://www.autoplus.fr/prix-neuf/\")"
   ]
  },
  {
   "cell_type": "code",
   "execution_count": 4,
   "metadata": {},
   "outputs": [],
   "source": [
    "def scrap_page(page_number):\n",
    "    \n",
    "    df = pd.DataFrame(columns = ['Marque_Modele', 'VERSION', 'ENERGIE', 'Boite_de_vitesse','PUISS_FISCALE', 'DATE', 'MALUS', 'PRIX_Neuf'])\n",
    "    \n",
    "    s = session.get(url='https://www.autoplus.fr/prix-neuf/?page=%i#advanced-filters'%page_number)\n",
    "    \n",
    "    for i in range(1, 32):\n",
    "\n",
    "        elements_list = s.html.xpath('//*[@id=\"content\"]/div[6]/table/tbody/tr[%i]'%i)[0].text.split('\\n')\n",
    "        elements_list = [elem.replace(u'\\xa0', '').replace('€', '') for elem in elements_list]\n",
    "        \n",
    "        try : \n",
    "            df.loc[i] = elements_list\n",
    "        \n",
    "        except ValueError:\n",
    "            pass\n",
    "    \n",
    "    return df"
   ]
  },
  {
   "cell_type": "code",
   "execution_count": null,
   "metadata": {},
   "outputs": [],
   "source": [
    "def scrap_pages(start_page,end_page):\n",
    "    \n",
    "    df = pd.DataFrame()\n",
    "    \n",
    "    for i in range(start_page, end_page):\n",
    "        \n",
    "        sleep(random.uniform(1, 20))\n",
    "        \n",
    "        if i % random.randint(11,17)==0: \n",
    "            \n",
    "            sleep(random.uniform(120, 700))\n",
    "            \n",
    "            print (pause)\n",
    "        else:\n",
    "            df_ = scrap_page(i)\n",
    "            \n",
    "            df = pd.concat([df, df_])\n",
    "            print ('page %i'%i)\n",
    "            \n",
    "        return df"
   ]
  },
  {
   "cell_type": "raw",
   "metadata": {},
   "source": [
    "def page_code(i):\n",
    "    \n",
    "    x = session.get(url='https://www.autoplus.fr/prix-neuf/?page=%i#advanced-filters'%i).status_code\n",
    "    \n",
    "    return x\n",
    "\n",
    "def scrap_pages():\n",
    "    \n",
    "    df = pd.DataFrame()\n",
    "    \n",
    "    i = 1 \n",
    "\n",
    "    while page_code(i) == 200 :\n",
    "        \n",
    "        sleep(random.randint(1, 40))\n",
    "        \n",
    "        df_ = scrap_page(i)\n",
    "        print(i)\n",
    "        i+=1\n",
    "        \n",
    "        df = pd.concat([df, df_])\n",
    "        \n",
    "    return df"
   ]
  },
  {
   "cell_type": "code",
   "execution_count": null,
   "metadata": {
    "scrolled": false
   },
   "outputs": [],
   "source": [
    "#df1=scrap_pages(475)\n",
    "df1=scrap_pages(1,475)"
   ]
  },
  {
   "cell_type": "code",
   "execution_count": null,
   "metadata": {},
   "outputs": [],
   "source": [
    "df1.shape"
   ]
  },
  {
   "cell_type": "code",
   "execution_count": null,
   "metadata": {},
   "outputs": [],
   "source": [
    "df1.to_csv()"
   ]
  },
  {
   "cell_type": "code",
   "execution_count": null,
   "metadata": {},
   "outputs": [],
   "source": [
    "df2= pd.concat([df2, df1])"
   ]
  },
  {
   "cell_type": "code",
   "execution_count": null,
   "metadata": {},
   "outputs": [],
   "source": []
  }
 ],
 "metadata": {
  "kernelspec": {
   "display_name": "Python 3",
   "language": "python",
   "name": "python3"
  }
 },
 "nbformat": 4,
 "nbformat_minor": 2
}
