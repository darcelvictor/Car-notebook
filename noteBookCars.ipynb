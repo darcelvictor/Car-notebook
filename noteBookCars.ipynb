{
 "cells": [
  {
   "cell_type": "markdown",
   "metadata": {
    "colab_type": "text",
    "id": "5O6sQ1Jv09lf"
   },
   "source": [
    "# TP outil d’estimation de véhicules d’occasions"
   ]
  },
  {
   "cell_type": "code",
   "execution_count": 1,
   "metadata": {
    "colab": {
     "base_uri": "https://localhost:8080/",
     "height": 34
    },
    "colab_type": "code",
    "id": "XA0hefz911QR",
    "outputId": "7ba6fc70-5221-4d47-cc58-d1334d7c2697"
   },
   "outputs": [],
   "source": [
    "#from google.colab import drive\n",
    "#drive.mount('/content/drive')"
   ]
  },
  {
   "cell_type": "markdown",
   "metadata": {
    "colab_type": "text",
    "id": "5IH99lUX09lg"
   },
   "source": [
    "## Libraries import"
   ]
  },
  {
   "cell_type": "code",
   "execution_count": 2,
   "metadata": {
    "colab": {},
    "colab_type": "code",
    "id": "AYvhOcar09lh"
   },
   "outputs": [],
   "source": [
    "import pandas as pd\n",
    "import numpy as np\n",
    "import matplotlib.pyplot as plt\n",
    "import os\n",
    "import re\n",
    "from datetime import datetime\n",
    "#from sklearn.model_selection import train_test_split"
   ]
  },
  {
   "cell_type": "markdown",
   "metadata": {
    "colab_type": "text",
    "id": "9UAR5YmJ09lj"
   },
   "source": [
    "## Dataframe import"
   ]
  },
  {
   "cell_type": "code",
   "execution_count": 3,
   "metadata": {
    "colab": {
     "base_uri": "https://localhost:8080/",
     "height": 426
    },
    "colab_type": "code",
    "id": "NO3KBnW-09lk",
    "outputId": "a9b7b0f2-31e7-4a50-ac2f-79bdd9b58068"
   },
   "outputs": [
    {
     "name": "stdout",
     "output_type": "stream",
     "text": [
      "Data_cars.csv\n"
     ]
    }
   ],
   "source": [
    "fpath = os.path.join('Data_cars.csv')\n",
    "print(fpath)\n",
    "df = pd.read_csv(fpath)"
   ]
  },
  {
   "cell_type": "markdown",
   "metadata": {
    "colab_type": "text",
    "id": "9jwlZxqJ09ln"
   },
   "source": [
    "## Dataframe exploration"
   ]
  },
  {
   "cell_type": "code",
   "execution_count": 4,
   "metadata": {
    "colab": {},
    "colab_type": "code",
    "id": "CY3dA1iv09ln"
   },
   "outputs": [
    {
     "data": {
      "text/plain": [
       "(166695, 9)"
      ]
     },
     "execution_count": 4,
     "metadata": {},
     "output_type": "execute_result"
    }
   ],
   "source": [
    "df.shape"
   ]
  },
  {
   "cell_type": "code",
   "execution_count": 5,
   "metadata": {
    "colab": {},
    "colab_type": "code",
    "id": "TTFeYCTI09lp",
    "scrolled": true
   },
   "outputs": [
    {
     "data": {
      "text/plain": [
       "['Price',\n",
       " 'Make',\n",
       " 'Model',\n",
       " 'Model_year',\n",
       " 'Mileage',\n",
       " 'Fuel',\n",
       " 'Gearbox',\n",
       " 'Online',\n",
       " 'Description']"
      ]
     },
     "execution_count": 5,
     "metadata": {},
     "output_type": "execute_result"
    }
   ],
   "source": [
    "df.columns.tolist()"
   ]
  },
  {
   "cell_type": "code",
   "execution_count": 6,
   "metadata": {
    "colab": {},
    "colab_type": "code",
    "id": "APzJjOIC09lr",
    "scrolled": true
   },
   "outputs": [
    {
     "data": {
      "text/html": [
       "<div>\n",
       "<style scoped>\n",
       "    .dataframe tbody tr th:only-of-type {\n",
       "        vertical-align: middle;\n",
       "    }\n",
       "\n",
       "    .dataframe tbody tr th {\n",
       "        vertical-align: top;\n",
       "    }\n",
       "\n",
       "    .dataframe thead th {\n",
       "        text-align: right;\n",
       "    }\n",
       "</style>\n",
       "<table border=\"1\" class=\"dataframe\">\n",
       "  <thead>\n",
       "    <tr style=\"text-align: right;\">\n",
       "      <th></th>\n",
       "      <th>Price</th>\n",
       "      <th>Make</th>\n",
       "      <th>Model</th>\n",
       "      <th>Model_year</th>\n",
       "      <th>Mileage</th>\n",
       "      <th>Fuel</th>\n",
       "      <th>Gearbox</th>\n",
       "      <th>Online</th>\n",
       "      <th>Description</th>\n",
       "    </tr>\n",
       "  </thead>\n",
       "  <tbody>\n",
       "    <tr>\n",
       "      <th>0</th>\n",
       "      <td>11220.0</td>\n",
       "      <td>PEUGEOT</td>\n",
       "      <td>308</td>\n",
       "      <td>2014</td>\n",
       "      <td>94341.0 km</td>\n",
       "      <td>Diesel</td>\n",
       "      <td>mécanique</td>\n",
       "      <td>06/07/2018 à 3h47</td>\n",
       "      <td>modele: 308 (2E GENERATION), version: 1.6 HDI ...</td>\n",
       "    </tr>\n",
       "    <tr>\n",
       "      <th>1</th>\n",
       "      <td>57526.0</td>\n",
       "      <td>BMW</td>\n",
       "      <td>X6</td>\n",
       "      <td>2015</td>\n",
       "      <td>39051.0 km</td>\n",
       "      <td>Diesel</td>\n",
       "      <td>automatique</td>\n",
       "      <td>03/04/2018 à 16h41</td>\n",
       "      <td>modele: X6 F16, version: (F16) XDRIVE30D 258 M...</td>\n",
       "    </tr>\n",
       "    <tr>\n",
       "      <th>2</th>\n",
       "      <td>80379.0</td>\n",
       "      <td>AUDI</td>\n",
       "      <td>RS6</td>\n",
       "      <td>2014</td>\n",
       "      <td>75381.0 km</td>\n",
       "      <td>Essence</td>\n",
       "      <td>automatique</td>\n",
       "      <td>30/07/2018 à 1h55</td>\n",
       "      <td>modele: RS6 (3E GENERATION) AVANT, version: II...</td>\n",
       "    </tr>\n",
       "    <tr>\n",
       "      <th>3</th>\n",
       "      <td>2830.0</td>\n",
       "      <td>FORD</td>\n",
       "      <td>KA</td>\n",
       "      <td>2007</td>\n",
       "      <td>92282.0 km</td>\n",
       "      <td>Essence</td>\n",
       "      <td>mécanique</td>\n",
       "      <td>09/07/2018 à 14h12</td>\n",
       "      <td>modele: KA, version: 1.3 70 FUN, puissance_fis...</td>\n",
       "    </tr>\n",
       "    <tr>\n",
       "      <th>4</th>\n",
       "      <td>12925.0</td>\n",
       "      <td>FIAT</td>\n",
       "      <td>TIPO</td>\n",
       "      <td>2018</td>\n",
       "      <td>10.0 km</td>\n",
       "      <td>Essence</td>\n",
       "      <td>mécanique</td>\n",
       "      <td>19/05/2018 à 3h52</td>\n",
       "      <td>modele: TIPO 2 SW, version: II SW 1.4 95 POP, ...</td>\n",
       "    </tr>\n",
       "    <tr>\n",
       "      <th>5</th>\n",
       "      <td>27956.0</td>\n",
       "      <td>BMW</td>\n",
       "      <td>X3</td>\n",
       "      <td>2012</td>\n",
       "      <td>95623.0 km</td>\n",
       "      <td>Diesel</td>\n",
       "      <td>automatique</td>\n",
       "      <td>14/03/2018 à 4h24</td>\n",
       "      <td>modele: X3 F25, version: (F25) XDRIVE35D 313 S...</td>\n",
       "    </tr>\n",
       "    <tr>\n",
       "      <th>6</th>\n",
       "      <td>16888.0</td>\n",
       "      <td>AUDI</td>\n",
       "      <td>A3</td>\n",
       "      <td>2013</td>\n",
       "      <td>49018.0 km</td>\n",
       "      <td>Diesel</td>\n",
       "      <td>mécanique</td>\n",
       "      <td>16/04/2018 à 21h35</td>\n",
       "      <td>modele: A3 (2E GENERATION) SPORTBACK, version:...</td>\n",
       "    </tr>\n",
       "    <tr>\n",
       "      <th>7</th>\n",
       "      <td>18188.0</td>\n",
       "      <td>RENAULT</td>\n",
       "      <td>MEGANE</td>\n",
       "      <td>2017</td>\n",
       "      <td>9795.0 km</td>\n",
       "      <td>Diesel</td>\n",
       "      <td>automatique</td>\n",
       "      <td>29/04/2018 à 12h44</td>\n",
       "      <td>modele: MEGANE 4 ESTATE, version: IV ESTATE 1....</td>\n",
       "    </tr>\n",
       "    <tr>\n",
       "      <th>8</th>\n",
       "      <td>10594.0</td>\n",
       "      <td>FORD</td>\n",
       "      <td>C-MAX</td>\n",
       "      <td>2012</td>\n",
       "      <td>126670.0 km</td>\n",
       "      <td>Diesel</td>\n",
       "      <td>mécanique</td>\n",
       "      <td>22/06/2018 à 5h11</td>\n",
       "      <td>modele: C-MAX 2, version: II 1.6 TDCI 115 FAP ...</td>\n",
       "    </tr>\n",
       "    <tr>\n",
       "      <th>9</th>\n",
       "      <td>69131.0</td>\n",
       "      <td>MERCEDES</td>\n",
       "      <td>CLASSE C</td>\n",
       "      <td>2015</td>\n",
       "      <td>39439.0 km</td>\n",
       "      <td>Essence</td>\n",
       "      <td>automatique</td>\n",
       "      <td>08/03/2018 à 17h35</td>\n",
       "      <td>modele: CLASSE C 4 AMG, version: (W205) 63 AMG...</td>\n",
       "    </tr>\n",
       "  </tbody>\n",
       "</table>\n",
       "</div>"
      ],
      "text/plain": [
       "     Price      Make     Model  Model_year      Mileage     Fuel      Gearbox  \\\n",
       "0  11220.0   PEUGEOT       308        2014   94341.0 km   Diesel    mécanique   \n",
       "1  57526.0       BMW        X6        2015   39051.0 km   Diesel  automatique   \n",
       "2  80379.0      AUDI       RS6        2014   75381.0 km  Essence  automatique   \n",
       "3   2830.0      FORD        KA        2007   92282.0 km  Essence    mécanique   \n",
       "4  12925.0      FIAT      TIPO        2018      10.0 km  Essence    mécanique   \n",
       "5  27956.0       BMW        X3        2012   95623.0 km   Diesel  automatique   \n",
       "6  16888.0      AUDI        A3        2013   49018.0 km   Diesel    mécanique   \n",
       "7  18188.0   RENAULT    MEGANE        2017    9795.0 km   Diesel  automatique   \n",
       "8  10594.0      FORD     C-MAX        2012  126670.0 km   Diesel    mécanique   \n",
       "9  69131.0  MERCEDES  CLASSE C        2015   39439.0 km  Essence  automatique   \n",
       "\n",
       "               Online                                        Description  \n",
       "0   06/07/2018 à 3h47  modele: 308 (2E GENERATION), version: 1.6 HDI ...  \n",
       "1  03/04/2018 à 16h41  modele: X6 F16, version: (F16) XDRIVE30D 258 M...  \n",
       "2   30/07/2018 à 1h55  modele: RS6 (3E GENERATION) AVANT, version: II...  \n",
       "3  09/07/2018 à 14h12  modele: KA, version: 1.3 70 FUN, puissance_fis...  \n",
       "4   19/05/2018 à 3h52  modele: TIPO 2 SW, version: II SW 1.4 95 POP, ...  \n",
       "5   14/03/2018 à 4h24  modele: X3 F25, version: (F25) XDRIVE35D 313 S...  \n",
       "6  16/04/2018 à 21h35  modele: A3 (2E GENERATION) SPORTBACK, version:...  \n",
       "7  29/04/2018 à 12h44  modele: MEGANE 4 ESTATE, version: IV ESTATE 1....  \n",
       "8   22/06/2018 à 5h11  modele: C-MAX 2, version: II 1.6 TDCI 115 FAP ...  \n",
       "9  08/03/2018 à 17h35  modele: CLASSE C 4 AMG, version: (W205) 63 AMG...  "
      ]
     },
     "execution_count": 6,
     "metadata": {},
     "output_type": "execute_result"
    }
   ],
   "source": [
    "df.head(10)"
   ]
  },
  {
   "cell_type": "code",
   "execution_count": 7,
   "metadata": {
    "colab": {},
    "colab_type": "code",
    "id": "PyTL6o8109lt"
   },
   "outputs": [
    {
     "name": "stdout",
     "output_type": "stream",
     "text": [
      "Price          float64\n",
      "Make            object\n",
      "Model           object\n",
      "Model_year       int64\n",
      "Mileage         object\n",
      "Fuel            object\n",
      "Gearbox         object\n",
      "Online          object\n",
      "Description     object\n",
      "dtype: object\n"
     ]
    }
   ],
   "source": [
    "print (df.dtypes)"
   ]
  },
  {
   "cell_type": "code",
   "execution_count": 8,
   "metadata": {
    "colab": {},
    "colab_type": "code",
    "id": "ZPLWpCJU09lv"
   },
   "outputs": [
    {
     "name": "stdout",
     "output_type": "stream",
     "text": [
      "Price          float64\n",
      "Make            object\n",
      "Model           object\n",
      "Model_year       int64\n",
      "Mileage          int64\n",
      "Fuel            object\n",
      "Gearbox         object\n",
      "Online          object\n",
      "Description     object\n",
      "dtype: object\n"
     ]
    }
   ],
   "source": [
    "df['Mileage'] = df['Mileage'].map(lambda x : int(float(x[:-3])))\n",
    "print (df.dtypes)"
   ]
  },
  {
   "cell_type": "code",
   "execution_count": 9,
   "metadata": {
    "colab": {},
    "colab_type": "code",
    "id": "O7XnDFJL09ly"
   },
   "outputs": [
    {
     "data": {
      "text/plain": [
       "\"modele: RS6 (3E GENERATION) AVANT, version: III AVANT 4.0 TFSI 560 QUATTRO TIPTRONIC, puissance_fiscale: 47, portes: 5.0, options: banquette arrière 3 places;écran tactile;témoin de bouclage des ceintures av;palettes au volant;volant cuir;régulateur limiteur de vitesse;commande climatisation ar;pack dynamique;cache bagages;sorties d'échappement chromées;affichage tête haute;rétroviseurs électriques;airbag frontal;banquette 1/3 - 2/3;vision périphérique (360°);commandes vocales;vitres teintées;GPS;services connectés;prise audio USB;stations de webradio;poignées ton carrosserie;pare-brise thermique;système d'éclairage intelligent;régulateur de vitesse;siège conducteur à mémoire;inserts de porte carbone;rétroviseurs extérieurs à mémoire;carte main libre;jantes alu;siège passager à réglages électriques;boucliers av et ar couleur caisse;phares av. de jour à LED;airbags rideaux;colonne de direction électr. à mémoire;applications bois noir avec inserts alu;accoudoir central arrière;climatisation automatique multi zone;siège conducteur avec réglage lombaire;vitres électriques;feux de freinage d'urgence;eclairage d'ambiance;toit ouvrant rang 1 entrebaillant;siège passager chauffant;caméra de recul;inserts de tableau de bord carbone;banquette rabattable;filtre à pollen;siège passager avec réglage lombaire;tmc;kit téléphone main libre;rétroviseurs rabattables électriquement;porte-gobelets avant;syst. intelligent gestion des cylindres;répétiteurs de clignotant dans rétro ext;kit fumeur;sièges sport;ecran multifonction couleur;pack carbone;aide parking;AFU;contrôle de pression des pneus;airbags front. + lat.;sièges réglables en hauteur;catadioptres actifs;disque dur multimédia;jas 5 branches doubles noires285/30 r21;essuie-glaces automatiques;EBD;volant sport;température extérieure;système audio MP3;système Start & Stop;système audio;becquet;système d'échappement sport;châssis sport;feux automatiques;fermeture électrique;ceinture de vitrage chromée;noir panthère;ESP;fermeture électrique automatique;bacs de portes avant;radar anti-collision;porte-gobelets arrière;sac à ski;système DVD;miroir de courtoisie conducteur éclairé;anti patinage;accoudoir central avant;commandes du système audio au volant;fixations ISOFIX;siège conducteur chauffant;aide au démarrage en côte;lampes de lecture à l'avant;appel d'urgence localisé;lunette arrière dégivrante;suspension sport;essuie-glace arrière;eclairage statique d'intersection;ordinateur de bord;inserts de porte cuir;rétroviseurs dégivrants;système audio CD;toit ouvrant;volant réglable en hauteur et profondeur;phares adaptatifs;eclairage au sol;barres de toit;traceur GPS;siège conducteur réglable hauteur;kit téléphone main libre bluetooth;boite à gants réfrigérée;ABS;ceintures avant ajustables en hauteur;prise 12V;valcona embossé rs 6 argent lunaire;appel d'assistance localisé;volume automatique de la radio;compte tours;lave-phares;chauffage des sièges avant et arrière;boîtiers de rétros en carbone;3 ceintures ar. 3 points;borne wi-fi;siège conducteur électrique;echappement à double sortie;rétroviseur int. jour/nuit auto;système audio carte SD;alarme;alarme volumétrique;miroir de courtoisie passager éclairé;alarme périmétrique;airbags latéraux aux places arrière;calandre chromée;blocage de différentiel;volant multifonctions;ouverture des vitres séquentielle;toit ouvrant panoramique, couleur: NOIR PANTHERE CRISTAL\""
      ]
     },
     "execution_count": 9,
     "metadata": {},
     "output_type": "execute_result"
    }
   ],
   "source": [
    "df.at[2,'Description']"
   ]
  },
  {
   "cell_type": "code",
   "execution_count": 10,
   "metadata": {
    "colab": {},
    "colab_type": "code",
    "id": "pI-GvLTd09l0"
   },
   "outputs": [
    {
     "data": {
      "text/html": [
       "<div>\n",
       "<style scoped>\n",
       "    .dataframe tbody tr th:only-of-type {\n",
       "        vertical-align: middle;\n",
       "    }\n",
       "\n",
       "    .dataframe tbody tr th {\n",
       "        vertical-align: top;\n",
       "    }\n",
       "\n",
       "    .dataframe thead th {\n",
       "        text-align: right;\n",
       "    }\n",
       "</style>\n",
       "<table border=\"1\" class=\"dataframe\">\n",
       "  <thead>\n",
       "    <tr style=\"text-align: right;\">\n",
       "      <th></th>\n",
       "      <th>Price</th>\n",
       "      <th>Model_year</th>\n",
       "      <th>Mileage</th>\n",
       "    </tr>\n",
       "  </thead>\n",
       "  <tbody>\n",
       "    <tr>\n",
       "      <th>count</th>\n",
       "      <td>1.666950e+05</td>\n",
       "      <td>166695.000000</td>\n",
       "      <td>1.666950e+05</td>\n",
       "    </tr>\n",
       "    <tr>\n",
       "      <th>mean</th>\n",
       "      <td>1.933369e+04</td>\n",
       "      <td>2014.605387</td>\n",
       "      <td>4.689404e+04</td>\n",
       "    </tr>\n",
       "    <tr>\n",
       "      <th>std</th>\n",
       "      <td>1.642034e+04</td>\n",
       "      <td>8.304980</td>\n",
       "      <td>4.821007e+04</td>\n",
       "    </tr>\n",
       "    <tr>\n",
       "      <th>min</th>\n",
       "      <td>1.000000e+00</td>\n",
       "      <td>1900.000000</td>\n",
       "      <td>1.000000e+00</td>\n",
       "    </tr>\n",
       "    <tr>\n",
       "      <th>25%</th>\n",
       "      <td>1.128000e+04</td>\n",
       "      <td>2013.000000</td>\n",
       "      <td>9.169500e+03</td>\n",
       "    </tr>\n",
       "    <tr>\n",
       "      <th>50%</th>\n",
       "      <td>1.577400e+04</td>\n",
       "      <td>2016.000000</td>\n",
       "      <td>3.048500e+04</td>\n",
       "    </tr>\n",
       "    <tr>\n",
       "      <th>75%</th>\n",
       "      <td>2.270750e+04</td>\n",
       "      <td>2017.000000</td>\n",
       "      <td>7.335700e+04</td>\n",
       "    </tr>\n",
       "    <tr>\n",
       "      <th>max</th>\n",
       "      <td>1.486500e+06</td>\n",
       "      <td>5018.000000</td>\n",
       "      <td>1.418551e+06</td>\n",
       "    </tr>\n",
       "  </tbody>\n",
       "</table>\n",
       "</div>"
      ],
      "text/plain": [
       "              Price     Model_year       Mileage\n",
       "count  1.666950e+05  166695.000000  1.666950e+05\n",
       "mean   1.933369e+04    2014.605387  4.689404e+04\n",
       "std    1.642034e+04       8.304980  4.821007e+04\n",
       "min    1.000000e+00    1900.000000  1.000000e+00\n",
       "25%    1.128000e+04    2013.000000  9.169500e+03\n",
       "50%    1.577400e+04    2016.000000  3.048500e+04\n",
       "75%    2.270750e+04    2017.000000  7.335700e+04\n",
       "max    1.486500e+06    5018.000000  1.418551e+06"
      ]
     },
     "execution_count": 10,
     "metadata": {},
     "output_type": "execute_result"
    }
   ],
   "source": [
    "df.describe()"
   ]
  },
  {
   "cell_type": "code",
   "execution_count": 11,
   "metadata": {
    "colab": {},
    "colab_type": "code",
    "id": "454fdptZ09l2"
   },
   "outputs": [
    {
     "data": {
      "text/plain": [
       "Price          0\n",
       "Make           0\n",
       "Model          0\n",
       "Model_year     0\n",
       "Mileage        0\n",
       "Fuel           0\n",
       "Gearbox        0\n",
       "Online         0\n",
       "Description    0\n",
       "dtype: int64"
      ]
     },
     "execution_count": 11,
     "metadata": {},
     "output_type": "execute_result"
    }
   ],
   "source": [
    "df.isna().sum()"
   ]
  },
  {
   "cell_type": "code",
   "execution_count": 12,
   "metadata": {
    "colab": {},
    "colab_type": "code",
    "id": "-mCNOS_s09l4"
   },
   "outputs": [
    {
     "data": {
      "text/plain": [
       "Text(0.5, 1.0, 'Pice in terms of Mileage')"
      ]
     },
     "execution_count": 12,
     "metadata": {},
     "output_type": "execute_result"
    },
    {
     "data": {
      "image/png": "[encoded data removed]",
      "text/plain": [
       "<Figure size 3600x1440 with 1 Axes>"
      ]
     },
     "metadata": {
      "needs_background": "light"
     },
     "output_type": "display_data"
    }
   ],
   "source": [
    "plt.figure(figsize=(50,20))\n",
    "plt.scatter(df['Mileage'],df['Price'])\n",
    "plt.xlabel(\"Price\",size=40)\n",
    "plt.xticks(size=35)\n",
    "plt.ylabel(\"Mileage\",size=40)\n",
    "plt.yticks(size=35)\n",
    "plt.title('Pice in terms of Mileage',size=35)"
   ]
  },
  {
   "cell_type": "code",
   "execution_count": 13,
   "metadata": {
    "colab": {},
    "colab_type": "code",
    "id": "N-f54oXl09l8"
   },
   "outputs": [
    {
     "data": {
      "text/plain": [
       "Text(0, 0.5, 'Number of cars')"
      ]
     },
     "execution_count": 13,
     "metadata": {},
     "output_type": "execute_result"
    },
    {
     "data": {
      "image/png": "[encoded data removed]",
      "text/plain": [
       "<Figure size 432x288 with 1 Axes>"
      ]
     },
     "metadata": {
      "needs_background": "light"
     },
     "output_type": "display_data"
    }
   ],
   "source": [
    "plt.hist(df['Price'],bins=500)\n",
    "plt.xlabel(\"price\",size=10)\n",
    "plt.ylabel(\"Number of cars\",size=10)"
   ]
  },
  {
   "cell_type": "code",
   "execution_count": 14,
   "metadata": {
    "colab": {},
    "colab_type": "code",
    "id": "RIFEiYot7ifs"
   },
   "outputs": [
    {
     "data": {
      "text/plain": [
       "Text(0, 0.5, 'Number of cars')"
      ]
     },
     "execution_count": 14,
     "metadata": {},
     "output_type": "execute_result"
    },
    {
     "data": {
      "image/png": "[encoded data removed]",
      "text/plain": [
       "<Figure size 432x288 with 1 Axes>"
      ]
     },
     "metadata": {
      "needs_background": "light"
     },
     "output_type": "display_data"
    }
   ],
   "source": [
    "df2 = df.loc[df['Price'] < 100000]\n",
    "plt.hist(df2['Price'],bins=500)\n",
    "plt.xlabel(\"price\",size=10)\n",
    "plt.ylabel(\"Number of cars\",size=10)"
   ]
  },
  {
   "cell_type": "code",
   "execution_count": 15,
   "metadata": {
    "colab": {},
    "colab_type": "code",
    "id": "ik-u-bFO09l6"
   },
   "outputs": [
    {
     "data": {
      "text/plain": [
       "array(['PEUGEOT', 'BMW', 'AUDI', 'FORD', 'FIAT', 'RENAULT', 'MERCEDES',\n",
       "       'SEAT', 'MINI', 'HYUNDAI', 'DACIA', 'VOLKSWAGEN', 'CITROEN',\n",
       "       'TOYOTA', 'JAGUAR', 'OPEL', 'PORSCHE', 'NISSAN', 'LAND ROVER',\n",
       "       'MAZDA', 'VOLVO', 'SKODA', 'DS', 'SSANGYONG', 'SUZUKI', 'HONDA',\n",
       "       'LEXUS', 'INFINITI', 'JEEP', 'KIA', 'DODGE', 'ASTON MARTIN',\n",
       "       'LANCIA', 'LOTUS', 'CHEVROLET', 'SMART', 'ALFA ROMEO', 'BUGATTI',\n",
       "       'MITSUBISHI', 'MERCEDES-AMG', 'AIXAM', 'FERRARI', 'MG',\n",
       "       'LAMBORGHINI', 'MASERATI', 'SUBARU', 'MORGAN', 'CHRYSLER',\n",
       "       'ROLLS ROYCE', 'TESLA', 'ABARTH', 'LADA', 'BMW-ALPINA', 'SAAB',\n",
       "       'PACKARD', 'CADILLAC', 'ROVER', 'SHELBY', 'MICROCAR', 'ALPINA',\n",
       "       'BENTLEY', 'DAIHATSU', 'HUMMER', 'TRIUMPH', 'LIGIER', 'DAEWOO',\n",
       "       'AUSTIN HEALEY', 'JIAYUAN', 'MCLAREN', 'AUSTIN', 'DANGEL',\n",
       "       'CATERHAM', 'CHATENET', 'INTERMECCANICA', 'AC', 'AUTOBIANCHI',\n",
       "       'SUNBEAM', 'MIA ELECTRIC', 'BOLLORE', 'MPM MOTORS', 'INNOCENTI',\n",
       "       'MATRA', 'DONKERVOORT', 'GRECAV', 'BURBY S', 'FISKER', 'ALPINE',\n",
       "       'SIMCA', 'OLDSMOBILE', 'BELLIER', 'SECMA', 'RILEY'], dtype=object)"
      ]
     },
     "execution_count": 15,
     "metadata": {},
     "output_type": "execute_result"
    }
   ],
   "source": [
    "df['Make']=df['Make'].map(lambda x: x.strip())\n",
    "df.Make.unique()"
   ]
  },
  {
   "cell_type": "code",
   "execution_count": 16,
   "metadata": {
    "colab": {},
    "colab_type": "code",
    "id": "a12Df3jE09mA"
   },
   "outputs": [
    {
     "data": {
      "text/html": [
       "<div>\n",
       "<style scoped>\n",
       "    .dataframe tbody tr th:only-of-type {\n",
       "        vertical-align: middle;\n",
       "    }\n",
       "\n",
       "    .dataframe tbody tr th {\n",
       "        vertical-align: top;\n",
       "    }\n",
       "\n",
       "    .dataframe thead th {\n",
       "        text-align: right;\n",
       "    }\n",
       "</style>\n",
       "<table border=\"1\" class=\"dataframe\">\n",
       "  <thead>\n",
       "    <tr style=\"text-align: right;\">\n",
       "      <th></th>\n",
       "      <th>Maker</th>\n",
       "      <th>nbrCar</th>\n",
       "    </tr>\n",
       "  </thead>\n",
       "  <tbody>\n",
       "    <tr>\n",
       "      <th>0</th>\n",
       "      <td>RENAULT</td>\n",
       "      <td>30690</td>\n",
       "    </tr>\n",
       "    <tr>\n",
       "      <th>1</th>\n",
       "      <td>PEUGEOT</td>\n",
       "      <td>26119</td>\n",
       "    </tr>\n",
       "    <tr>\n",
       "      <th>2</th>\n",
       "      <td>CITROEN</td>\n",
       "      <td>17609</td>\n",
       "    </tr>\n",
       "    <tr>\n",
       "      <th>3</th>\n",
       "      <td>VOLKSWAGEN</td>\n",
       "      <td>11241</td>\n",
       "    </tr>\n",
       "    <tr>\n",
       "      <th>4</th>\n",
       "      <td>BMW</td>\n",
       "      <td>9424</td>\n",
       "    </tr>\n",
       "    <tr>\n",
       "      <th>...</th>\n",
       "      <td>...</td>\n",
       "      <td>...</td>\n",
       "    </tr>\n",
       "    <tr>\n",
       "      <th>87</th>\n",
       "      <td>CATERHAM</td>\n",
       "      <td>1</td>\n",
       "    </tr>\n",
       "    <tr>\n",
       "      <th>88</th>\n",
       "      <td>JIAYUAN</td>\n",
       "      <td>1</td>\n",
       "    </tr>\n",
       "    <tr>\n",
       "      <th>89</th>\n",
       "      <td>SECMA</td>\n",
       "      <td>1</td>\n",
       "    </tr>\n",
       "    <tr>\n",
       "      <th>90</th>\n",
       "      <td>BMW-ALPINA</td>\n",
       "      <td>1</td>\n",
       "    </tr>\n",
       "    <tr>\n",
       "      <th>91</th>\n",
       "      <td>INTERMECCANICA</td>\n",
       "      <td>1</td>\n",
       "    </tr>\n",
       "  </tbody>\n",
       "</table>\n",
       "<p>92 rows × 2 columns</p>\n",
       "</div>"
      ],
      "text/plain": [
       "             Maker  nbrCar\n",
       "0          RENAULT   30690\n",
       "1          PEUGEOT   26119\n",
       "2          CITROEN   17609\n",
       "3       VOLKSWAGEN   11241\n",
       "4              BMW    9424\n",
       "..             ...     ...\n",
       "87        CATERHAM       1\n",
       "88         JIAYUAN       1\n",
       "89           SECMA       1\n",
       "90      BMW-ALPINA       1\n",
       "91  INTERMECCANICA       1\n",
       "\n",
       "[92 rows x 2 columns]"
      ]
     },
     "execution_count": 16,
     "metadata": {},
     "output_type": "execute_result"
    }
   ],
   "source": [
    "#pd.set_option('display.max_rows', None)\n",
    "df2=df.Make.value_counts()#normalize=True\n",
    "df2=pd.Series.to_frame(df2)\n",
    "df2.reset_index(inplace=True)\n",
    "df2.columns=[\"Maker\", \"nbrCar\"]\n",
    "df2"
   ]
  },
  {
   "cell_type": "code",
   "execution_count": 17,
   "metadata": {
    "colab": {},
    "colab_type": "code",
    "id": "ZsakABlf09mC"
   },
   "outputs": [
    {
     "data": {
      "text/plain": [
       "Text(0.5, 1.0, 'Number of cars per Mark')"
      ]
     },
     "execution_count": 17,
     "metadata": {},
     "output_type": "execute_result"
    },
    {
     "data": {
      "image/png": "[encoded data removed]",
      "text/plain": [
       "<Figure size 3600x1440 with 1 Axes>"
      ]
     },
     "metadata": {
      "needs_background": "light"
     },
     "output_type": "display_data"
    }
   ],
   "source": [
    "plt.figure(figsize=(50,20))\n",
    "plt.bar(\"Maker\", \"nbrCar\",data = df2)\n",
    "plt.xlabel(\"Mark\",size=30)\n",
    "plt.xticks(rotation=90,size=20)\n",
    "plt.ylabel(\"Number of cars\",size=30)\n",
    "plt.yticks(size=20)\n",
    "plt.title('Number of cars per Mark',size=35)"
   ]
  },
  {
   "cell_type": "code",
   "execution_count": 18,
   "metadata": {},
   "outputs": [
    {
     "data": {
      "text/plain": [
       "Text(0, 0.5, '€')"
      ]
     },
     "execution_count": 18,
     "metadata": {},
     "output_type": "execute_result"
    },
    {
     "data": {
      "image/png": "[encoded data removed]",
      "text/plain": [
       "<Figure size 576x432 with 1 Axes>"
      ]
     },
     "metadata": {
      "needs_background": "light"
     },
     "output_type": "display_data"
    }
   ],
   "source": [
    "fig = plt.figure(figsize=(8,6))\n",
    "ax = fig.gca()\n",
    "df.boxplot(column='Price', ax=ax)\n",
    "# frame['ArrDelay'].plot.box(ax=ax) # Alternative\n",
    "ax.set_title('BoxPlot of Price')\n",
    "ax.set_ylabel('€')"
   ]
  },
  {
   "cell_type": "code",
   "execution_count": 19,
   "metadata": {},
   "outputs": [
    {
     "data": {
      "text/html": [
       "<div>\n",
       "<style scoped>\n",
       "    .dataframe tbody tr th:only-of-type {\n",
       "        vertical-align: middle;\n",
       "    }\n",
       "\n",
       "    .dataframe tbody tr th {\n",
       "        vertical-align: top;\n",
       "    }\n",
       "\n",
       "    .dataframe thead th {\n",
       "        text-align: right;\n",
       "    }\n",
       "</style>\n",
       "<table border=\"1\" class=\"dataframe\">\n",
       "  <thead>\n",
       "    <tr style=\"text-align: right;\">\n",
       "      <th></th>\n",
       "      <th>Price</th>\n",
       "      <th>Make</th>\n",
       "      <th>Model</th>\n",
       "      <th>Model_year</th>\n",
       "      <th>Mileage</th>\n",
       "      <th>Fuel</th>\n",
       "      <th>Gearbox</th>\n",
       "      <th>Online</th>\n",
       "      <th>Description</th>\n",
       "    </tr>\n",
       "  </thead>\n",
       "  <tbody>\n",
       "    <tr>\n",
       "      <th>17541</th>\n",
       "      <td>13159.0</td>\n",
       "      <td>FIAT</td>\n",
       "      <td>500</td>\n",
       "      <td>5018</td>\n",
       "      <td>2973</td>\n",
       "      <td>Diesel</td>\n",
       "      <td>mécanique</td>\n",
       "      <td>02/05/2018 à 6h54</td>\n",
       "      <td>modele: , version: LOUNGE 1.2 69, puissance_fi...</td>\n",
       "    </tr>\n",
       "  </tbody>\n",
       "</table>\n",
       "</div>"
      ],
      "text/plain": [
       "         Price  Make Model  Model_year  Mileage    Fuel    Gearbox  \\\n",
       "17541  13159.0  FIAT   500        5018     2973  Diesel  mécanique   \n",
       "\n",
       "                  Online                                        Description  \n",
       "17541  02/05/2018 à 6h54  modele: , version: LOUNGE 1.2 69, puissance_fi...  "
      ]
     },
     "execution_count": 19,
     "metadata": {},
     "output_type": "execute_result"
    }
   ],
   "source": [
    "pd.options.display.max_rows = 15\n",
    "df.sort_values(by=['Model_year'])\n",
    "df.loc[df['Model_year'] > 2020]"
   ]
  },
  {
   "cell_type": "code",
   "execution_count": 20,
   "metadata": {},
   "outputs": [],
   "source": [
    "df=df.loc[df['Model_year'] < 2020]"
   ]
  },
  {
   "cell_type": "code",
   "execution_count": 21,
   "metadata": {},
   "outputs": [],
   "source": [
    "df=df.loc[df['Model_year'] > 1945]"
   ]
  },
  {
   "cell_type": "code",
   "execution_count": 22,
   "metadata": {
    "scrolled": true
   },
   "outputs": [
    {
     "data": {
      "text/plain": [
       "\"modele: KADJAR, version: 1.6 DCI 130 ENERGY INTENS, puissance_fiscale: 7, portes: 5.0, options: écran tactile;volant cuir;régulateur limiteur de vitesse;système de récupération d'énergie au freinage;prises audio auxiliaires;cache bagages;direction assistée;blanc nacré;rétroviseurs électriques;airbag frontal;banquette 1/3 - 2/3;vitres ar. surteintées;appui-tête conducteur réglable hauteur;commandes vocales;mixte simili cuir/tissu noir titane;vitres teintées;bacs de portes arrière;GPS;services connectés;prise audio USB;poignées ton carrosserie;régulateur de vitesse;dispositif freinage automatique;carte main libre;jantes alu;boucliers av et ar couleur caisse;phares av. de jour;phares av. de jour à LED;airbags rideaux;projecteurs antibrouillard;blanc glacier;climatisation automatique multi zone;vitres électriques;feux de freinage d'urgence;caméra de recul;banquette rabattable;appui-tête passager réglable en hauteur;filtre à pollen;interface media;rétroviseurs rabattables électriquement;porte-gobelets avant;répétiteurs de clignotant dans rétro ext;ecran multifonction couleur;aide parking;commande mode eco;AFU;contrôle de pression des pneus;airbags front. + lat.;lampes de lecture à l'arrière;sièges réglables en hauteur;essuie-glaces automatiques;alerte franchissement ligne;EBD;température extérieure;système audio MP3;4 haut parleurs;système Start & Stop;témoin de bouclage ceinture conducteur;système audio;becquet;feux automatiques;fermeture électrique;ceinture de vitrage chromée;ESP;fermeture électrique automatique;bacs de portes avant;boite à gants fermée;toit panoramique;anti patinage;accoudoir central avant;commandes du système audio au volant;fixations ISOFIX;poches d'aumonières;aide au démarrage en côte;lampes de lecture à l'avant;reconnaissance panneaux de signalisation;essuie-glace arrière;ordinateur de bord;phares halogènes;rétroviseurs dégivrants;volant réglable en hauteur et profondeur;barres de toit;siège conducteur réglable hauteur;kit téléphone main libre bluetooth;ABS;ceintures avant ajustables en hauteur;prise 12V;FAP;compte tours;pommeau de levier vitesse en cuir;3 ceintures ar. 3 points;siège passager avec dossier repliable;support lombaires;volant multifonctions;avertisseur d'angle mort;ouverture des vitres séquentielle, couleur: BLANC NACRE\""
      ]
     },
     "execution_count": 22,
     "metadata": {},
     "output_type": "execute_result"
    }
   ],
   "source": [
    "df.at[56,'Description']"
   ]
  },
  {
   "cell_type": "code",
   "execution_count": 23,
   "metadata": {},
   "outputs": [
    {
     "data": {
      "text/plain": [
       "0          4\n",
       "1         16\n",
       "2         47\n",
       "3          5\n",
       "4          5\n",
       "          ..\n",
       "166690    10\n",
       "166691     8\n",
       "166692     5\n",
       "166693     8\n",
       "166694    10\n",
       "Name: Fiscal_Horsepower, Length: 166682, dtype: int64"
      ]
     },
     "execution_count": 23,
     "metadata": {},
     "output_type": "execute_result"
    }
   ],
   "source": [
    "df['Fiscal_Horsepower'] = df['Description'].map(lambda x : int(re.search(r'puissance_fiscale: (.*?), ',x).group(1)))\n",
    "df['Fiscal_Horsepower']"
   ]
  },
  {
   "cell_type": "code",
   "execution_count": 24,
   "metadata": {},
   "outputs": [
    {
     "data": {
      "text/plain": [
       "array([   4,   16,   47,    5,   20,    7,    6,   40,    8,   11,   32,\n",
       "         15,   12,   10,    9,   17,    0,   13,   14,   24,    3,   18,\n",
       "         35,    1,   29,   34,  118,   52,   19,   22,   25,   28,   23,\n",
       "         41,   26,   27,   21,   37,   61,   31,   50,   48,   46,   30,\n",
       "         49,   42,    2,   38,   33,   43,   44,   54,   58,   63,   56,\n",
       "         57,   45,   39,   51,   36,  131,   72,   59,   70,   64,   81,\n",
       "        205, 2013,   62,   53,   68,   66,   73,   75,   69,  204,  202,\n",
       "        110,   65,  150,  105,  109])"
      ]
     },
     "execution_count": 24,
     "metadata": {},
     "output_type": "execute_result"
    }
   ],
   "source": [
    "df['Fiscal_Horsepower'].unique()"
   ]
  },
  {
   "cell_type": "code",
   "execution_count": 25,
   "metadata": {},
   "outputs": [
    {
     "data": {
      "text/plain": [
       "array([5, 3, 4, 2, 7, 0, 6])"
      ]
     },
     "execution_count": 25,
     "metadata": {},
     "output_type": "execute_result"
    }
   ],
   "source": [
    "df['doors'] = df['Description'].map(lambda x : re.search(r'portes:(.*?), ',x).group(1))\n",
    "df['doors'] = df['doors'].map(lambda x: x.strip())\n",
    "df['doors'] = df['doors'].map(lambda x: 7  if(x=='') else int(x[:-2]))\n",
    "df['doors'].unique()"
   ]
  },
  {
   "cell_type": "code",
   "execution_count": 26,
   "metadata": {},
   "outputs": [
    {
     "data": {
      "text/plain": [
       "array(['BLANC BANQUISE', 'Carbonschwarz metallise',\n",
       "       'NOIR PANTHERE CRISTAL', ...,\n",
       "       'beige opaque (verni sans reflet)   ', 'NOIR OBSIDIEN NACRE',\n",
       "       'Gris poivre metallis'], dtype=object)"
      ]
     },
     "execution_count": 26,
     "metadata": {},
     "output_type": "execute_result"
    }
   ],
   "source": [
    "df['Options'] = df['Description'].map(lambda x : re.search(r'options:(.*?), couleur:', x).group(1).split(';'))\n",
    "df['Options_Count'] = df['Description'].map(lambda x : re.search(r'options:(.*?), couleur:', x).group(1).count(';'))\n",
    "df['Couleurs'] = df['Description'].map(lambda x : re.split(r'couleur: ', x)[-1])\n",
    "df['Couleurs'].unique()"
   ]
  },
  {
   "cell_type": "code",
   "execution_count": 27,
   "metadata": {},
   "outputs": [],
   "source": [
    "df['Age']  = df['Online'].map(lambda x : datetime.strptime(x, '%d/%m/%Y à %Hh%M'))\n",
    "df['Age'] = df.apply(lambda row: row['Age'].year - int(row['Model_year']), axis=1)"
   ]
  },
  {
   "cell_type": "code",
   "execution_count": 28,
   "metadata": {},
   "outputs": [
    {
     "data": {
      "text/html": [
       "<div>\n",
       "<style scoped>\n",
       "    .dataframe tbody tr th:only-of-type {\n",
       "        vertical-align: middle;\n",
       "    }\n",
       "\n",
       "    .dataframe tbody tr th {\n",
       "        vertical-align: top;\n",
       "    }\n",
       "\n",
       "    .dataframe thead th {\n",
       "        text-align: right;\n",
       "    }\n",
       "</style>\n",
       "<table border=\"1\" class=\"dataframe\">\n",
       "  <thead>\n",
       "    <tr style=\"text-align: right;\">\n",
       "      <th></th>\n",
       "      <th>Price</th>\n",
       "      <th>Make</th>\n",
       "      <th>Model</th>\n",
       "      <th>Model_year</th>\n",
       "      <th>Mileage</th>\n",
       "      <th>Fuel</th>\n",
       "      <th>Gearbox</th>\n",
       "      <th>Online</th>\n",
       "      <th>Description</th>\n",
       "      <th>Fiscal_Horsepower</th>\n",
       "      <th>doors</th>\n",
       "      <th>Options</th>\n",
       "      <th>Options_Count</th>\n",
       "      <th>Couleurs</th>\n",
       "      <th>Age</th>\n",
       "    </tr>\n",
       "  </thead>\n",
       "  <tbody>\n",
       "    <tr>\n",
       "      <th>0</th>\n",
       "      <td>11220.0</td>\n",
       "      <td>PEUGEOT</td>\n",
       "      <td>308</td>\n",
       "      <td>2014</td>\n",
       "      <td>94341</td>\n",
       "      <td>Diesel</td>\n",
       "      <td>mécanique</td>\n",
       "      <td>06/07/2018 à 3h47</td>\n",
       "      <td>modele: 308 (2E GENERATION), version: 1.6 HDI ...</td>\n",
       "      <td>4</td>\n",
       "      <td>5</td>\n",
       "      <td>[ banquette arrière 3 places, volant cuir, cac...</td>\n",
       "      <td>53</td>\n",
       "      <td>BLANC BANQUISE</td>\n",
       "      <td>4</td>\n",
       "    </tr>\n",
       "    <tr>\n",
       "      <th>1</th>\n",
       "      <td>57526.0</td>\n",
       "      <td>BMW</td>\n",
       "      <td>X6</td>\n",
       "      <td>2015</td>\n",
       "      <td>39051</td>\n",
       "      <td>Diesel</td>\n",
       "      <td>automatique</td>\n",
       "      <td>03/04/2018 à 16h41</td>\n",
       "      <td>modele: X6 F16, version: (F16) XDRIVE30D 258 M...</td>\n",
       "      <td>16</td>\n",
       "      <td>5</td>\n",
       "      <td>[ triangle de presignalisation et trousse de p...</td>\n",
       "      <td>40</td>\n",
       "      <td>Carbonschwarz metallise</td>\n",
       "      <td>3</td>\n",
       "    </tr>\n",
       "    <tr>\n",
       "      <th>2</th>\n",
       "      <td>80379.0</td>\n",
       "      <td>AUDI</td>\n",
       "      <td>RS6</td>\n",
       "      <td>2014</td>\n",
       "      <td>75381</td>\n",
       "      <td>Essence</td>\n",
       "      <td>automatique</td>\n",
       "      <td>30/07/2018 à 1h55</td>\n",
       "      <td>modele: RS6 (3E GENERATION) AVANT, version: II...</td>\n",
       "      <td>47</td>\n",
       "      <td>5</td>\n",
       "      <td>[ banquette arrière 3 places, écran tactile, t...</td>\n",
       "      <td>139</td>\n",
       "      <td>NOIR PANTHERE CRISTAL</td>\n",
       "      <td>4</td>\n",
       "    </tr>\n",
       "    <tr>\n",
       "      <th>3</th>\n",
       "      <td>2830.0</td>\n",
       "      <td>FORD</td>\n",
       "      <td>KA</td>\n",
       "      <td>2007</td>\n",
       "      <td>92282</td>\n",
       "      <td>Essence</td>\n",
       "      <td>mécanique</td>\n",
       "      <td>09/07/2018 à 14h12</td>\n",
       "      <td>modele: KA, version: 1.3 70 FUN, puissance_fis...</td>\n",
       "      <td>5</td>\n",
       "      <td>3</td>\n",
       "      <td>[ direction assistée, jantes alu, rétroviseurs...</td>\n",
       "      <td>7</td>\n",
       "      <td>JAUNE</td>\n",
       "      <td>11</td>\n",
       "    </tr>\n",
       "    <tr>\n",
       "      <th>4</th>\n",
       "      <td>12925.0</td>\n",
       "      <td>FIAT</td>\n",
       "      <td>TIPO</td>\n",
       "      <td>2018</td>\n",
       "      <td>10</td>\n",
       "      <td>Essence</td>\n",
       "      <td>mécanique</td>\n",
       "      <td>19/05/2018 à 3h52</td>\n",
       "      <td>modele: TIPO 2 SW, version: II SW 1.4 95 POP, ...</td>\n",
       "      <td>5</td>\n",
       "      <td>5</td>\n",
       "      <td>[ Volant alu &amp; cuir, Bluetooth inclut musique ...</td>\n",
       "      <td>23</td>\n",
       "      <td>blanc verni</td>\n",
       "      <td>0</td>\n",
       "    </tr>\n",
       "  </tbody>\n",
       "</table>\n",
       "</div>"
      ],
      "text/plain": [
       "     Price     Make Model  Model_year  Mileage     Fuel      Gearbox  \\\n",
       "0  11220.0  PEUGEOT   308        2014    94341   Diesel    mécanique   \n",
       "1  57526.0      BMW    X6        2015    39051   Diesel  automatique   \n",
       "2  80379.0     AUDI   RS6        2014    75381  Essence  automatique   \n",
       "3   2830.0     FORD    KA        2007    92282  Essence    mécanique   \n",
       "4  12925.0     FIAT  TIPO        2018       10  Essence    mécanique   \n",
       "\n",
       "               Online                                        Description  \\\n",
       "0   06/07/2018 à 3h47  modele: 308 (2E GENERATION), version: 1.6 HDI ...   \n",
       "1  03/04/2018 à 16h41  modele: X6 F16, version: (F16) XDRIVE30D 258 M...   \n",
       "2   30/07/2018 à 1h55  modele: RS6 (3E GENERATION) AVANT, version: II...   \n",
       "3  09/07/2018 à 14h12  modele: KA, version: 1.3 70 FUN, puissance_fis...   \n",
       "4   19/05/2018 à 3h52  modele: TIPO 2 SW, version: II SW 1.4 95 POP, ...   \n",
       "\n",
       "   Fiscal_Horsepower  doors  \\\n",
       "0                  4      5   \n",
       "1                 16      5   \n",
       "2                 47      5   \n",
       "3                  5      3   \n",
       "4                  5      5   \n",
       "\n",
       "                                             Options  Options_Count  \\\n",
       "0  [ banquette arrière 3 places, volant cuir, cac...             53   \n",
       "1  [ triangle de presignalisation et trousse de p...             40   \n",
       "2  [ banquette arrière 3 places, écran tactile, t...            139   \n",
       "3  [ direction assistée, jantes alu, rétroviseurs...              7   \n",
       "4  [ Volant alu & cuir, Bluetooth inclut musique ...             23   \n",
       "\n",
       "                  Couleurs  Age  \n",
       "0           BLANC BANQUISE    4  \n",
       "1  Carbonschwarz metallise    3  \n",
       "2    NOIR PANTHERE CRISTAL    4  \n",
       "3                    JAUNE   11  \n",
       "4              blanc verni    0  "
      ]
     },
     "execution_count": 28,
     "metadata": {},
     "output_type": "execute_result"
    }
   ],
   "source": [
    "df.head()"
   ]
  },
  {
   "cell_type": "code",
   "execution_count": 29,
   "metadata": {},
   "outputs": [
    {
     "data": {
      "text/plain": [
       "array(['Diesel', 'Essence', 'Hybride essence électrique', 'Electrique',\n",
       "       'Bicarburation essence GNV', 'Hybride diesel électrique',\n",
       "       'Bicarburation essence GPL', 'Bicarburation essence bioéthanol'],\n",
       "      dtype=object)"
      ]
     },
     "execution_count": 29,
     "metadata": {},
     "output_type": "execute_result"
    }
   ],
   "source": [
    "df['Fuel'].unique()"
   ]
  },
  {
   "cell_type": "code",
   "execution_count": 31,
   "metadata": {},
   "outputs": [
    {
     "data": {
      "text/html": [
       "<div>\n",
       "<style scoped>\n",
       "    .dataframe tbody tr th:only-of-type {\n",
       "        vertical-align: middle;\n",
       "    }\n",
       "\n",
       "    .dataframe tbody tr th {\n",
       "        vertical-align: top;\n",
       "    }\n",
       "\n",
       "    .dataframe thead th {\n",
       "        text-align: right;\n",
       "    }\n",
       "</style>\n",
       "<table border=\"1\" class=\"dataframe\">\n",
       "  <thead>\n",
       "    <tr style=\"text-align: right;\">\n",
       "      <th></th>\n",
       "      <th>Price</th>\n",
       "      <th>Make</th>\n",
       "      <th>Model</th>\n",
       "      <th>Model_year</th>\n",
       "      <th>Mileage</th>\n",
       "      <th>Fuel</th>\n",
       "      <th>Gearbox</th>\n",
       "      <th>Online</th>\n",
       "      <th>Description</th>\n",
       "      <th>Fiscal_Horsepower</th>\n",
       "      <th>...</th>\n",
       "      <th>Couleurs</th>\n",
       "      <th>Age</th>\n",
       "      <th>Bicarburation essence GNV</th>\n",
       "      <th>Bicarburation essence GPL</th>\n",
       "      <th>Bicarburation essence bioéthanol</th>\n",
       "      <th>Diesel</th>\n",
       "      <th>Electrique</th>\n",
       "      <th>Essence</th>\n",
       "      <th>Hybride diesel électrique</th>\n",
       "      <th>Hybride essence électrique</th>\n",
       "    </tr>\n",
       "  </thead>\n",
       "  <tbody>\n",
       "    <tr>\n",
       "      <th>0</th>\n",
       "      <td>11220.0</td>\n",
       "      <td>PEUGEOT</td>\n",
       "      <td>308</td>\n",
       "      <td>2014</td>\n",
       "      <td>94341</td>\n",
       "      <td>Diesel</td>\n",
       "      <td>mécanique</td>\n",
       "      <td>06/07/2018 à 3h47</td>\n",
       "      <td>modele: 308 (2E GENERATION), version: 1.6 HDI ...</td>\n",
       "      <td>4</td>\n",
       "      <td>...</td>\n",
       "      <td>BLANC BANQUISE</td>\n",
       "      <td>4</td>\n",
       "      <td>0</td>\n",
       "      <td>0</td>\n",
       "      <td>0</td>\n",
       "      <td>1</td>\n",
       "      <td>0</td>\n",
       "      <td>0</td>\n",
       "      <td>0</td>\n",
       "      <td>0</td>\n",
       "    </tr>\n",
       "    <tr>\n",
       "      <th>1</th>\n",
       "      <td>57526.0</td>\n",
       "      <td>BMW</td>\n",
       "      <td>X6</td>\n",
       "      <td>2015</td>\n",
       "      <td>39051</td>\n",
       "      <td>Diesel</td>\n",
       "      <td>automatique</td>\n",
       "      <td>03/04/2018 à 16h41</td>\n",
       "      <td>modele: X6 F16, version: (F16) XDRIVE30D 258 M...</td>\n",
       "      <td>16</td>\n",
       "      <td>...</td>\n",
       "      <td>Carbonschwarz metallise</td>\n",
       "      <td>3</td>\n",
       "      <td>0</td>\n",
       "      <td>0</td>\n",
       "      <td>0</td>\n",
       "      <td>1</td>\n",
       "      <td>0</td>\n",
       "      <td>0</td>\n",
       "      <td>0</td>\n",
       "      <td>0</td>\n",
       "    </tr>\n",
       "    <tr>\n",
       "      <th>2</th>\n",
       "      <td>80379.0</td>\n",
       "      <td>AUDI</td>\n",
       "      <td>RS6</td>\n",
       "      <td>2014</td>\n",
       "      <td>75381</td>\n",
       "      <td>Essence</td>\n",
       "      <td>automatique</td>\n",
       "      <td>30/07/2018 à 1h55</td>\n",
       "      <td>modele: RS6 (3E GENERATION) AVANT, version: II...</td>\n",
       "      <td>47</td>\n",
       "      <td>...</td>\n",
       "      <td>NOIR PANTHERE CRISTAL</td>\n",
       "      <td>4</td>\n",
       "      <td>0</td>\n",
       "      <td>0</td>\n",
       "      <td>0</td>\n",
       "      <td>0</td>\n",
       "      <td>0</td>\n",
       "      <td>1</td>\n",
       "      <td>0</td>\n",
       "      <td>0</td>\n",
       "    </tr>\n",
       "    <tr>\n",
       "      <th>3</th>\n",
       "      <td>2830.0</td>\n",
       "      <td>FORD</td>\n",
       "      <td>KA</td>\n",
       "      <td>2007</td>\n",
       "      <td>92282</td>\n",
       "      <td>Essence</td>\n",
       "      <td>mécanique</td>\n",
       "      <td>09/07/2018 à 14h12</td>\n",
       "      <td>modele: KA, version: 1.3 70 FUN, puissance_fis...</td>\n",
       "      <td>5</td>\n",
       "      <td>...</td>\n",
       "      <td>JAUNE</td>\n",
       "      <td>11</td>\n",
       "      <td>0</td>\n",
       "      <td>0</td>\n",
       "      <td>0</td>\n",
       "      <td>0</td>\n",
       "      <td>0</td>\n",
       "      <td>1</td>\n",
       "      <td>0</td>\n",
       "      <td>0</td>\n",
       "    </tr>\n",
       "    <tr>\n",
       "      <th>4</th>\n",
       "      <td>12925.0</td>\n",
       "      <td>FIAT</td>\n",
       "      <td>TIPO</td>\n",
       "      <td>2018</td>\n",
       "      <td>10</td>\n",
       "      <td>Essence</td>\n",
       "      <td>mécanique</td>\n",
       "      <td>19/05/2018 à 3h52</td>\n",
       "      <td>modele: TIPO 2 SW, version: II SW 1.4 95 POP, ...</td>\n",
       "      <td>5</td>\n",
       "      <td>...</td>\n",
       "      <td>blanc verni</td>\n",
       "      <td>0</td>\n",
       "      <td>0</td>\n",
       "      <td>0</td>\n",
       "      <td>0</td>\n",
       "      <td>0</td>\n",
       "      <td>0</td>\n",
       "      <td>1</td>\n",
       "      <td>0</td>\n",
       "      <td>0</td>\n",
       "    </tr>\n",
       "  </tbody>\n",
       "</table>\n",
       "<p>5 rows × 23 columns</p>\n",
       "</div>"
      ],
      "text/plain": [
       "     Price     Make Model  Model_year  Mileage     Fuel      Gearbox  \\\n",
       "0  11220.0  PEUGEOT   308        2014    94341   Diesel    mécanique   \n",
       "1  57526.0      BMW    X6        2015    39051   Diesel  automatique   \n",
       "2  80379.0     AUDI   RS6        2014    75381  Essence  automatique   \n",
       "3   2830.0     FORD    KA        2007    92282  Essence    mécanique   \n",
       "4  12925.0     FIAT  TIPO        2018       10  Essence    mécanique   \n",
       "\n",
       "               Online                                        Description  \\\n",
       "0   06/07/2018 à 3h47  modele: 308 (2E GENERATION), version: 1.6 HDI ...   \n",
       "1  03/04/2018 à 16h41  modele: X6 F16, version: (F16) XDRIVE30D 258 M...   \n",
       "2   30/07/2018 à 1h55  modele: RS6 (3E GENERATION) AVANT, version: II...   \n",
       "3  09/07/2018 à 14h12  modele: KA, version: 1.3 70 FUN, puissance_fis...   \n",
       "4   19/05/2018 à 3h52  modele: TIPO 2 SW, version: II SW 1.4 95 POP, ...   \n",
       "\n",
       "   Fiscal_Horsepower  ...                 Couleurs Age  \\\n",
       "0                  4  ...           BLANC BANQUISE   4   \n",
       "1                 16  ...  Carbonschwarz metallise   3   \n",
       "2                 47  ...    NOIR PANTHERE CRISTAL   4   \n",
       "3                  5  ...                    JAUNE  11   \n",
       "4                  5  ...              blanc verni   0   \n",
       "\n",
       "   Bicarburation essence GNV Bicarburation essence GPL  \\\n",
       "0                          0                         0   \n",
       "1                          0                         0   \n",
       "2                          0                         0   \n",
       "3                          0                         0   \n",
       "4                          0                         0   \n",
       "\n",
       "   Bicarburation essence bioéthanol  Diesel  Electrique  Essence  \\\n",
       "0                                 0       1           0        0   \n",
       "1                                 0       1           0        0   \n",
       "2                                 0       0           0        1   \n",
       "3                                 0       0           0        1   \n",
       "4                                 0       0           0        1   \n",
       "\n",
       "   Hybride diesel électrique  Hybride essence électrique  \n",
       "0                          0                           0  \n",
       "1                          0                           0  \n",
       "2                          0                           0  \n",
       "3                          0                           0  \n",
       "4                          0                           0  \n",
       "\n",
       "[5 rows x 23 columns]"
      ]
     },
     "execution_count": 31,
     "metadata": {},
     "output_type": "execute_result"
    }
   ],
   "source": [
    "df = df.join(pd.get_dummies(df['Fuel']))\n",
    "df.head()"
   ]
  },
  {
   "cell_type": "code",
   "execution_count": 33,
   "metadata": {},
   "outputs": [
    {
     "data": {
      "text/html": [
       "<div>\n",
       "<style scoped>\n",
       "    .dataframe tbody tr th:only-of-type {\n",
       "        vertical-align: middle;\n",
       "    }\n",
       "\n",
       "    .dataframe tbody tr th {\n",
       "        vertical-align: top;\n",
       "    }\n",
       "\n",
       "    .dataframe thead th {\n",
       "        text-align: right;\n",
       "    }\n",
       "</style>\n",
       "<table border=\"1\" class=\"dataframe\">\n",
       "  <thead>\n",
       "    <tr style=\"text-align: right;\">\n",
       "      <th></th>\n",
       "      <th>Price</th>\n",
       "      <th>Make</th>\n",
       "      <th>Model</th>\n",
       "      <th>Model_year</th>\n",
       "      <th>Mileage</th>\n",
       "      <th>Fuel</th>\n",
       "      <th>Gearbox</th>\n",
       "      <th>Online</th>\n",
       "      <th>Description</th>\n",
       "      <th>Fiscal_Horsepower</th>\n",
       "      <th>...</th>\n",
       "      <th>Couleurs</th>\n",
       "      <th>Age</th>\n",
       "      <th>Bicarburation essence GNV</th>\n",
       "      <th>Bicarburation essence GPL</th>\n",
       "      <th>Bicarburation essence bioéthanol</th>\n",
       "      <th>Diesel</th>\n",
       "      <th>Electrique</th>\n",
       "      <th>Essence</th>\n",
       "      <th>Hybride diesel électrique</th>\n",
       "      <th>Hybride essence électrique</th>\n",
       "    </tr>\n",
       "  </thead>\n",
       "  <tbody>\n",
       "    <tr>\n",
       "      <th>0</th>\n",
       "      <td>11220.0</td>\n",
       "      <td>PEUGEOT</td>\n",
       "      <td>308</td>\n",
       "      <td>2014</td>\n",
       "      <td>94341</td>\n",
       "      <td>Diesel</td>\n",
       "      <td>mécanique</td>\n",
       "      <td>06/07/2018 à 3h47</td>\n",
       "      <td>modele: 308 (2E GENERATION), version: 1.6 HDI ...</td>\n",
       "      <td>4</td>\n",
       "      <td>...</td>\n",
       "      <td>BLANC BANQUISE</td>\n",
       "      <td>4</td>\n",
       "      <td>0</td>\n",
       "      <td>0</td>\n",
       "      <td>0</td>\n",
       "      <td>1</td>\n",
       "      <td>0</td>\n",
       "      <td>0</td>\n",
       "      <td>0</td>\n",
       "      <td>0</td>\n",
       "    </tr>\n",
       "    <tr>\n",
       "      <th>1</th>\n",
       "      <td>57526.0</td>\n",
       "      <td>BMW</td>\n",
       "      <td>X6</td>\n",
       "      <td>2015</td>\n",
       "      <td>39051</td>\n",
       "      <td>Diesel</td>\n",
       "      <td>automatique</td>\n",
       "      <td>03/04/2018 à 16h41</td>\n",
       "      <td>modele: X6 F16, version: (F16) XDRIVE30D 258 M...</td>\n",
       "      <td>16</td>\n",
       "      <td>...</td>\n",
       "      <td>Carbonschwarz metallise</td>\n",
       "      <td>3</td>\n",
       "      <td>0</td>\n",
       "      <td>0</td>\n",
       "      <td>0</td>\n",
       "      <td>1</td>\n",
       "      <td>0</td>\n",
       "      <td>0</td>\n",
       "      <td>0</td>\n",
       "      <td>0</td>\n",
       "    </tr>\n",
       "    <tr>\n",
       "      <th>2</th>\n",
       "      <td>80379.0</td>\n",
       "      <td>AUDI</td>\n",
       "      <td>RS6</td>\n",
       "      <td>2014</td>\n",
       "      <td>75381</td>\n",
       "      <td>Essence</td>\n",
       "      <td>automatique</td>\n",
       "      <td>30/07/2018 à 1h55</td>\n",
       "      <td>modele: RS6 (3E GENERATION) AVANT, version: II...</td>\n",
       "      <td>47</td>\n",
       "      <td>...</td>\n",
       "      <td>NOIR PANTHERE CRISTAL</td>\n",
       "      <td>4</td>\n",
       "      <td>0</td>\n",
       "      <td>0</td>\n",
       "      <td>0</td>\n",
       "      <td>0</td>\n",
       "      <td>0</td>\n",
       "      <td>1</td>\n",
       "      <td>0</td>\n",
       "      <td>0</td>\n",
       "    </tr>\n",
       "    <tr>\n",
       "      <th>3</th>\n",
       "      <td>2830.0</td>\n",
       "      <td>FORD</td>\n",
       "      <td>KA</td>\n",
       "      <td>2007</td>\n",
       "      <td>92282</td>\n",
       "      <td>Essence</td>\n",
       "      <td>mécanique</td>\n",
       "      <td>09/07/2018 à 14h12</td>\n",
       "      <td>modele: KA, version: 1.3 70 FUN, puissance_fis...</td>\n",
       "      <td>5</td>\n",
       "      <td>...</td>\n",
       "      <td>JAUNE</td>\n",
       "      <td>11</td>\n",
       "      <td>0</td>\n",
       "      <td>0</td>\n",
       "      <td>0</td>\n",
       "      <td>0</td>\n",
       "      <td>0</td>\n",
       "      <td>1</td>\n",
       "      <td>0</td>\n",
       "      <td>0</td>\n",
       "    </tr>\n",
       "    <tr>\n",
       "      <th>4</th>\n",
       "      <td>12925.0</td>\n",
       "      <td>FIAT</td>\n",
       "      <td>TIPO</td>\n",
       "      <td>2018</td>\n",
       "      <td>10</td>\n",
       "      <td>Essence</td>\n",
       "      <td>mécanique</td>\n",
       "      <td>19/05/2018 à 3h52</td>\n",
       "      <td>modele: TIPO 2 SW, version: II SW 1.4 95 POP, ...</td>\n",
       "      <td>5</td>\n",
       "      <td>...</td>\n",
       "      <td>blanc verni</td>\n",
       "      <td>0</td>\n",
       "      <td>0</td>\n",
       "      <td>0</td>\n",
       "      <td>0</td>\n",
       "      <td>0</td>\n",
       "      <td>0</td>\n",
       "      <td>1</td>\n",
       "      <td>0</td>\n",
       "      <td>0</td>\n",
       "    </tr>\n",
       "  </tbody>\n",
       "</table>\n",
       "<p>5 rows × 23 columns</p>\n",
       "</div>"
      ],
      "text/plain": [
       "     Price     Make Model  Model_year  Mileage     Fuel      Gearbox  \\\n",
       "0  11220.0  PEUGEOT   308        2014    94341   Diesel    mécanique   \n",
       "1  57526.0      BMW    X6        2015    39051   Diesel  automatique   \n",
       "2  80379.0     AUDI   RS6        2014    75381  Essence  automatique   \n",
       "3   2830.0     FORD    KA        2007    92282  Essence    mécanique   \n",
       "4  12925.0     FIAT  TIPO        2018       10  Essence    mécanique   \n",
       "\n",
       "               Online                                        Description  \\\n",
       "0   06/07/2018 à 3h47  modele: 308 (2E GENERATION), version: 1.6 HDI ...   \n",
       "1  03/04/2018 à 16h41  modele: X6 F16, version: (F16) XDRIVE30D 258 M...   \n",
       "2   30/07/2018 à 1h55  modele: RS6 (3E GENERATION) AVANT, version: II...   \n",
       "3  09/07/2018 à 14h12  modele: KA, version: 1.3 70 FUN, puissance_fis...   \n",
       "4   19/05/2018 à 3h52  modele: TIPO 2 SW, version: II SW 1.4 95 POP, ...   \n",
       "\n",
       "   Fiscal_Horsepower  ...                 Couleurs Age  \\\n",
       "0                  4  ...           BLANC BANQUISE   4   \n",
       "1                 16  ...  Carbonschwarz metallise   3   \n",
       "2                 47  ...    NOIR PANTHERE CRISTAL   4   \n",
       "3                  5  ...                    JAUNE  11   \n",
       "4                  5  ...              blanc verni   0   \n",
       "\n",
       "   Bicarburation essence GNV Bicarburation essence GPL  \\\n",
       "0                          0                         0   \n",
       "1                          0                         0   \n",
       "2                          0                         0   \n",
       "3                          0                         0   \n",
       "4                          0                         0   \n",
       "\n",
       "   Bicarburation essence bioéthanol  Diesel  Electrique  Essence  \\\n",
       "0                                 0       1           0        0   \n",
       "1                                 0       1           0        0   \n",
       "2                                 0       0           0        1   \n",
       "3                                 0       0           0        1   \n",
       "4                                 0       0           0        1   \n",
       "\n",
       "   Hybride diesel électrique  Hybride essence électrique  \n",
       "0                          0                           0  \n",
       "1                          0                           0  \n",
       "2                          0                           0  \n",
       "3                          0                           0  \n",
       "4                          0                           0  \n",
       "\n",
       "[5 rows x 23 columns]"
      ]
     },
     "execution_count": 33,
     "metadata": {},
     "output_type": "execute_result"
    }
   ],
   "source": [
    "df.join(pd.get_dummies(df['Gearbox']))\n",
    "df.head()"
   ]
  },
  {
   "cell_type": "code",
   "execution_count": 37,
   "metadata": {},
   "outputs": [
    {
     "name": "stdout",
     "output_type": "stream",
     "text": [
      "Price                               float64\n",
      "Make                                 object\n",
      "Model                                object\n",
      "Model_year                            int64\n",
      "Mileage                               int64\n",
      "Fuel                                 object\n",
      "Gearbox                              object\n",
      "Online                               object\n",
      "Description                          object\n",
      "Fiscal_Horsepower                     int64\n",
      "doors                                 int64\n",
      "Options                              object\n",
      "Options_Count                         int64\n",
      "Couleurs                             object\n",
      "Age                                   int64\n",
      "Bicarburation essence GNV             uint8\n",
      "Bicarburation essence GPL             uint8\n",
      "Bicarburation essence bioéthanol      uint8\n",
      "Diesel                                uint8\n",
      "Electrique                            uint8\n",
      "Essence                               uint8\n",
      "Hybride diesel électrique             uint8\n",
      "Hybride essence électrique            uint8\n",
      "dtype: object\n"
     ]
    }
   ],
   "source": [
    "pd.set_option('display.max_rows', None)\n",
    "print (df.dtypes)\n",
    "pd.set_option('display.max_rows', 15)"
   ]
  },
  {
   "cell_type": "code",
   "execution_count": 38,
   "metadata": {},
   "outputs": [
    {
     "name": "stdout",
     "output_type": "stream",
     "text": [
      "Price                         float64\n",
      "Make                           object\n",
      "Model                          object\n",
      "Model_year                      int64\n",
      "Mileage                         int64\n",
      "                               ...   \n",
      "Diesel                          uint8\n",
      "Electrique                      uint8\n",
      "Essence                         uint8\n",
      "Hybride diesel électrique       uint8\n",
      "Hybride essence électrique      uint8\n",
      "Length: 23, dtype: object\n"
     ]
    }
   ],
   "source": [
    "print (df.dtypes)"
   ]
  },
  {
   "cell_type": "code",
   "execution_count": null,
   "metadata": {},
   "outputs": [],
   "source": [
    "faire champ taille cillindré et nombre de chevaux CH\n",
    "categoriel (modele marque) les encoder\n",
    "plus de visualisation "
   ]
  }
 ],
 "metadata": {
  "colab": {
   "name": "noteBookCars.ipynb",
   "provenance": []
  },
  "kernelspec": {
   "display_name": "Python 3",
   "language": "python",
   "name": "python3"
  },
  "language_info": {
   "codemirror_mode": {
    "name": "ipython",
    "version": 3
   },
   "file_extension": ".py",
   "mimetype": "text/x-python",
   "name": "python",
   "nbconvert_exporter": "python",
   "pygments_lexer": "ipython3",
   "version": "3.7.6"
  }
 },
 "nbformat": 4,
 "nbformat_minor": 1
}
